{
 "cells": [
  {
   "cell_type": "code",
   "execution_count": null,
   "metadata": {},
   "outputs": [],
   "source": [
    "import sys\n",
    "import numpy as  np\n",
    "from dataclasses import dataclass\n",
    "\n",
    "@dataclass\n",
    "class padainput:\n",
    "    inputfile : str = \"dipole.txt\"\n",
    "    outfile : str = \"ftoutput.txt\"\n",
    "    limit : int = 10000\n",
    "    frequency : float = 10.0\n",
    "    fmin : float = 0.0\n",
    "    f0 : str = \"10;0;0\"\n",
    "    damping : str = \"exp\"\n",
    "    gamma : np.float64 = 1.0e-3\n",
    "    pad : int = 0\n",
    "    rstep : int = 1\n",
    "    resampling : bool = False\n",
    "    diagn : bool = False\n",
    "    pulseFmax : np.float64 = 1.0\n",
    "    dw : float = 0.03, \n",
    "    preproc : bool = True \n",
    "\n",
    "wfilenamex = \"./omp.mklparallel.quad.x/weighted_dip.txt\"\n",
    "wfilenamey = \"./omp.mklparallel.quad.y/weighted_dip.txt\"\n",
    "wfilenamez = \"./omp.mklparallel.quad.z/weighted_dip.txt\"\n",
    "\n",
    "dipolexfilename =  \"./omp.mklparallel.quad.x/dipole.txt\"\n",
    "dipoleyfilename =  \"./omp.mklparallel.quad.y/dipole.txt\"\n",
    "dipolezfilename =  \"./omp.mklparallel.quad.z/dipole.txt\"\n",
    "PADEDIR = \"/home/redo/Project_Bertha/Exanalysis/misc/pade/\"\n",
    "\n",
    "inputvals = padainput()\n",
    "inputvals.gamma = 2.0e-6\n",
    "inputvals.dw = 0.02\n",
    "inputvals.damping = \"gauss\"\n",
    "inputvals.fmin = 2.5\n",
    "inputvals.frequency = 6.5 \n",
    "inputvals.limit = 25000\n",
    "\n",
    "sys.path.append(PADEDIR)\n",
    "import pade_transform\n",
    "\n",
    "inputvals.inputfile = dipolexfilename\n",
    "inputvals.outfile = \"alongx.tzt\"\n",
    "pade_transform.run_pade(inputvals)\n",
    "\n",
    "inputvals.inputfile = dipoleyfilename\n",
    "inputvals.outfile = \"alongy.tzt\"\n",
    "pade_transform.run_pade(inputvals)\n",
    "\n",
    "inputvals.inputfile = dipolezfilename\n",
    "inputvals.outfile = \"alongz.tzt\"\n",
    "pade_transform.run_pade(inputvals)"
   ]
  }
 ],
 "metadata": {
  "kernelspec": {
   "display_name": "base",
   "language": "python",
   "name": "python3"
  },
  "language_info": {
   "codemirror_mode": {
    "name": "ipython",
    "version": 3
   },
   "file_extension": ".py",
   "mimetype": "text/x-python",
   "name": "python",
   "nbconvert_exporter": "python",
   "pygments_lexer": "ipython3",
   "version": "3.9.12"
  },
  "orig_nbformat": 4
 },
 "nbformat": 4,
 "nbformat_minor": 2
}

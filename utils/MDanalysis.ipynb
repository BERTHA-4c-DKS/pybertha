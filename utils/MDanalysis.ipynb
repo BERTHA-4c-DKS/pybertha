{
 "cells": [
  {
   "cell_type": "code",
   "execution_count": null,
   "metadata": {},
   "outputs": [],
   "source": [
    "import MDAnalysis as mda\n",
    "\n",
    "\n",
    "pbcl2 = mda.Universe(\"PbCl2.xyz\")\n",
    "pbi2 = mda.Universe(\"PbI2.xyz\")\n",
    "print(\"Number of frames: \", pbcl2.trajectory.n_frames)\n",
    "print(\"Number of atoms: \", pbcl2.atoms.n_atoms)\n",
    "print(\"Number of frames: \", pbi2.trajectory.n_frames)\n",
    "print(\"Number of atoms: \", pbi2.atoms.n_atoms)"
   ]
  },
  {
   "cell_type": "code",
   "execution_count": null,
   "metadata": {},
   "outputs": [],
   "source": [
    "import MDAnalysis.analysis.rms\n",
    "\n",
    "ref = mda.Universe(\"PbCl2.xyz\")\n",
    "Rpbcl2 = MDAnalysis.analysis.rms.RMSD(pbcl2, ref)\n",
    "Rpbcl2.run()\n",
    "\n",
    "ref  = mda.Universe(\"PbI2.xyz\")\n",
    "Rpbi2 = MDAnalysis.analysis.rms.RMSD(pbi2, ref)\n",
    "Rpbi2.run()\n"
   ]
  },
  {
   "cell_type": "code",
   "execution_count": null,
   "metadata": {},
   "outputs": [],
   "source": [
    "import matplotlib.pyplot as plt\n",
    "\n",
    "rmsdpbcl2 = Rpbcl2.results.rmsd.T   # transpose makes it easier for plotting\n",
    "time = rmsdpbcl2[1]\n",
    "fig = plt.figure(figsize=(4,4))\n",
    "ax = fig.add_subplot(111)\n",
    "ax.plot(time, rmsdpbcl2[2], 'r--')\n",
    "ax.set_xlabel(\"time (ps)\")\n",
    "ax.set_ylabel(\"RMSD\")\n",
    "fig.show()\n",
    "\n",
    "rmsdpbi2 = Rpbi2.results.rmsd.T   # transpose makes it easier for plotting\n",
    "time = rmsdpbi2[1]\n",
    "fig = plt.figure(figsize=(4,4))\n",
    "ax = fig.add_subplot(111)\n",
    "ax.plot(time, rmsdpbi2[2], 'r--')\n",
    "ax.set_xlabel(\"time (ps)\")\n",
    "ax.set_ylabel(\"RMSD\")\n",
    "fig.show()\n",
    "\n"
   ]
  },
  {
   "cell_type": "code",
   "execution_count": null,
   "metadata": {},
   "outputs": [],
   "source": [
    "filenmae = \"PbCl2_skipped.xyz\"\n",
    "fp = open(filenmae, \"w\")\n",
    "for i in range(0, pbcl2.trajectory.n_frames, 10):\n",
    "    pbcl2.trajectory[i]\n",
    "    if len(pbcl2.atoms.names) != len(pbcl2.atoms.positions):\n",
    "        print(\"Different number of atoms in frame %d\" % i)\n",
    "        exit(1)\n",
    "    else:\n",
    "        print(len(pbcl2.atoms.names), file=fp)\n",
    "        print(\"Frame %d\" % i, file=fp)\n",
    "        for j in range(len(pbcl2.atoms.names)):\n",
    "            print(\"%4s\"%(pbcl2.atoms.names[j]), end=\"\", file=fp) \n",
    "            for k in range(3):\n",
    "                print(\"%15.10f\"%(pbcl2.atoms.positions[j][k]), end=\"\", file=fp) \n",
    "            print(file=fp)\n"
   ]
  }
 ],
 "metadata": {
  "kernelspec": {
   "display_name": "base",
   "language": "python",
   "name": "python3"
  },
  "language_info": {
   "codemirror_mode": {
    "name": "ipython",
    "version": 3
   },
   "file_extension": ".py",
   "mimetype": "text/x-python",
   "name": "python",
   "nbconvert_exporter": "python",
   "pygments_lexer": "ipython3",
   "version": "3.9.12"
  }
 },
 "nbformat": 4,
 "nbformat_minor": 2
}
